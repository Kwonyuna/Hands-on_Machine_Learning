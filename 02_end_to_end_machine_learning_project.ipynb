import sys
assert sys.version_info
