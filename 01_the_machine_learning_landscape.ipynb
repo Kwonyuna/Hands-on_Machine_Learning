{
  "cells": [
    {
      "cell_type": "markdown",
      "metadata": {
        "id": "1255jsdUa-8l"
      },
      "source": [
        "**1장 – 한 눈에 보는 머신러닝**\n",
        "\n",
        "_이 노트북은 1장의 그림을 만들기 위한 것입니다._"
      ]
    },
    {
      "cell_type": "markdown",
      "metadata": {
        "id": "MZxQAAjqa-8r"
      },
      "source": [
        "<table align=\"left\">\n",
        "  <td>\n",
        "    <a target=\"_blank\" href=\"https://colab.research.google.com/github/rickiepark/handson-ml2/blob/master/01_the_machine_learning_landscape.ipynb\"><img src=\"https://www.tensorflow.org/images/colab_logo_32px.png\" />구글 코랩에서 실행하기</a>\n",
        "  </td>\n",
        "</table>"
      ]
    },
    {
      "cell_type": "markdown",
      "metadata": {
        "id": "5xXvVzTva-8t"
      },
      "source": [
        "# 예제 1-1"
      ]
    },
    {
      "cell_type": "markdown",
      "metadata": {
        "id": "kTNI95a7a-8t"
      },
      "source": [
        "파이썬 2.x도 사용할 수 있지만 향후 이 버전은 더이상 지원되지 않습니다. 대신 파이썬 3을 사용세요.\n",
        "\n",
        "_번역서의 깃허브는 파이썬 3.7, 사이킷런 0.22.2에서 테스트했습니다._"
      ]
    },
    {
      "cell_type": "code",
      "execution_count": 1,
      "metadata": {
        "execution": {
          "iopub.execute_input": "2021-10-23T06:48:27.360112Z",
          "iopub.status.busy": "2021-10-23T06:48:27.359373Z",
          "iopub.status.idle": "2021-10-23T06:48:27.362548Z",
          "shell.execute_reply": "2021-10-23T06:48:27.361751Z"
        },
        "id": "qikMrHM9a-8u"
      },
      "outputs": [],
      "source": [
        "# Python ≥3.5 이상이 권장됩니다\n",
        "import sys\n",
        "assert sys.version_info >= (3, 5)"
      ]
    },
    {
      "cell_type": "code",
      "execution_count": 2,
      "metadata": {
        "execution": {
          "iopub.execute_input": "2021-10-23T06:48:27.366887Z",
          "iopub.status.busy": "2021-10-23T06:48:27.366222Z",
          "iopub.status.idle": "2021-10-23T06:48:27.872624Z",
          "shell.execute_reply": "2021-10-23T06:48:27.871702Z"
        },
        "id": "rlkzNWm0a-8v"
      },
      "outputs": [],
      "source": [
        "# Scikit-Learn ≥0.20 이상이 권장됩니다\n",
        "import sklearn\n",
        "assert sklearn.__version__ >= \"0.20\""
      ]
    },
    {
      "cell_type": "markdown",
      "metadata": {
        "id": "t7mEa2Tna-8w"
      },
      "source": [
        "이 함수는 OECD의 삶의 만족도(life satisfaction) 데이터와 IMF의 1인당 GDP(GDP per capita) 데이터를 합칩니다. 이는 번거로운 작업이고 머신러닝과는 관계가 없기 때문에 책 안에 포함시키지 않았습니다."
      ]
    },
    {
      "cell_type": "code",
      "execution_count": null,
      "metadata": {
        "execution": {
          "iopub.execute_input": "2021-10-23T06:48:27.884035Z",
          "iopub.status.busy": "2021-10-23T06:48:27.883134Z",
          "iopub.status.idle": "2021-10-23T06:48:27.886196Z",
          "shell.execute_reply": "2021-10-23T06:48:27.886642Z"
        },
        "id": "qP8_Oi5Ca-8x"
      },
      "outputs": [],
      "source": [
        "def prepare_country_stats(oecd_bli, gdp_per_capita):\n",
        "    oecd_bli = oecd_bli[oecd_bli[\"INEQUALITY\"]==\"TOT\"]\n",
        "    oecd_bli = oecd_bli.pivot(index=\"Country\", columns=\"Indicator\", values=\"Value\")\n",
        "    #피봇테이블 생성\n",
        "    # result.pivot(index=\"행\",columns=\"값\",values=\"\")\n",
        "    gdp_per_capita.rename(columns={\"2015\": \"GDP per capita\"}, inplace=True)\n",
        "    gdp_per_capita.set_index(\"Country\", inplace=True) #index 변경\n",
        "    full_country_stats = pd.merge(left=oecd_bli, right=gdp_per_capita,\n",
        "                                  left_index=True, right_index=True)\n",
        "    full_country_stats.sort_values(by=\"GDP per capita\", inplace=True)\n",
        "    remove_indices = [0, 1, 6, 8, 33, 34, 35]\n",
        "    keep_indices = list(set(range(36)) - set(remove_indices))\n",
        "    return full_country_stats[[\"GDP per capita\", 'Life satisfaction']].iloc[keep_indices]"
      ]
    },
    {
      "cell_type": "markdown",
      "metadata": {
        "id": "D_gIs4i2a-8y"
      },
      "source": [
        "책에 있는 코드는 데이터 파일이 현재 디렉토리에 있다고 가정합니다. 여기에서는 `datasets/lifesat` 안에서 파일을 읽어 들입니다."
      ]
    },
    {
      "cell_type": "code",
      "execution_count": null,
      "metadata": {
        "execution": {
          "iopub.execute_input": "2021-10-23T06:48:27.893337Z",
          "iopub.status.busy": "2021-10-23T06:48:27.892639Z",
          "iopub.status.idle": "2021-10-23T06:48:27.894671Z",
          "shell.execute_reply": "2021-10-23T06:48:27.895135Z"
        },
        "id": "Po6RZjG2a-8z"
      },
      "outputs": [],
      "source": [
        "import os\n",
        "datapath = os.path.join(\"datasets\", \"lifesat\", \"\")"
      ]
    },
    {
      "cell_type": "code",
      "execution_count": null,
      "metadata": {
        "execution": {
          "iopub.execute_input": "2021-10-23T06:48:27.901700Z",
          "iopub.status.busy": "2021-10-23T06:48:27.898894Z",
          "iopub.status.idle": "2021-10-23T06:48:28.157984Z",
          "shell.execute_reply": "2021-10-23T06:48:28.157249Z"
        },
        "id": "gb4E1aJ2a-8z"
      },
      "outputs": [],
      "source": [
        "# 주피터에 그래프를 깔끔하게 그리기 위해서\n",
        "%matplotlib inline\n",
        "import matplotlib as mpl\n",
        "mpl.rc('axes', labelsize=14)\n",
        "mpl.rc('xtick', labelsize=12)\n",
        "mpl.rc('ytick', labelsize=12)"
      ]
    },
    {
      "cell_type": "code",
      "execution_count": null,
      "metadata": {
        "execution": {
          "iopub.execute_input": "2021-10-23T06:48:28.166265Z",
          "iopub.status.busy": "2021-10-23T06:48:28.165512Z",
          "iopub.status.idle": "2021-10-23T06:48:28.499932Z",
          "shell.execute_reply": "2021-10-23T06:48:28.500421Z"
        },
        "id": "FgemgBhCa-80"
      },
      "outputs": [],
      "source": [
        "# 데이터 다운로드\n",
        "import urllib.request\n",
        "DOWNLOAD_ROOT = \"https://raw.githubusercontent.com/rickiepark/handson-ml2/master/\"\n",
        "os.makedirs(datapath, exist_ok=True)\n",
        "for filename in (\"oecd_bli_2015.csv\", \"gdp_per_capita.csv\"):\n",
        "    print(\"Downloading\", filename)\n",
        "    url = DOWNLOAD_ROOT + \"datasets/lifesat/\" + filename\n",
        "    urllib.request.urlretrieve(url, datapath + filename)"
      ]
    },
    {
      "cell_type": "code",
      "execution_count": null,
      "metadata": {
        "execution": {
          "iopub.execute_input": "2021-10-23T06:48:28.504956Z",
          "iopub.status.busy": "2021-10-23T06:48:28.503805Z",
          "iopub.status.idle": "2021-10-23T06:48:28.958883Z",
          "shell.execute_reply": "2021-10-23T06:48:28.958132Z"
        },
        "id": "yfrRH9iIa-81"
      },
      "outputs": [],
      "source": [
        "# 예제 코드\n",
        "import matplotlib.pyplot as plt\n",
        "import numpy as np\n",
        "import pandas as pd\n",
        "import sklearn.linear_model\n",
        "\n",
        "# 데이터 적재\n",
        "oecd_bli = pd.read_csv(datapath + \"oecd_bli_2015.csv\", thousands=',')\n",
        "gdp_per_capita = pd.read_csv(datapath + \"gdp_per_capita.csv\",thousands=',',delimiter='\\t',\n",
        "                             encoding='latin1', na_values=\"n/a\")\n",
        "\n",
        "# 데이터 준비\n",
        "country_stats = prepare_country_stats(oecd_bli, gdp_per_capita)\n",
        "X = np.c_[country_stats[\"GDP per capita\"]]\n",
        "y = np.c_[country_stats[\"Life satisfaction\"]]\n",
        "\n",
        "# 데이터 시각화\n",
        "country_stats.plot(kind='scatter', x=\"GDP per capita\", y='Life satisfaction')\n",
        "plt.show()\n",
        "\n",
        "# 선형 모델 선택\n",
        "model = sklearn.linear_model.LinearRegression()\n",
        "\n",
        "# 모델 훈련\n",
        "model.fit(X, y)\n",
        "\n",
        "# 키프로스에 대한 예측\n",
        "X_new = [[22587]]  # 키프로스 1인당 GDP\n",
        "print(model.predict(X_new)) # 출력 [[ 5.96242338]]"
      ]
    },
    {
      "cell_type": "markdown",
      "metadata": {
        "id": "Vp7mbdpea-81"
      },
      "source": [
        "이전 코드에서 선형 회귀 모델을 k-최근접 이웃 회귀(이 경우 k=3)로 바꾸려면 간단하게 다음 두 라인만 바꾸면 됩니다:\n",
        "\n",
        "```python\n",
        "import sklearn.linear_model\n",
        "model = sklearn.linear_model.LinearRegression()\n",
        "```\n",
        "\n",
        "아래와 같이 바꿉니다:\n",
        "\n",
        "```python\n",
        "import sklearn.neighbors\n",
        "model = sklearn.neighbors.KNeighborsRegressor(n_neighbors=3)\n",
        "```"
      ]
    },
    {
      "cell_type": "code",
      "execution_count": null,
      "metadata": {
        "execution": {
          "iopub.execute_input": "2021-10-23T06:48:28.966285Z",
          "iopub.status.busy": "2021-10-23T06:48:28.964917Z",
          "iopub.status.idle": "2021-10-23T06:48:28.982370Z",
          "shell.execute_reply": "2021-10-23T06:48:28.981619Z"
        },
        "id": "tPJQ8_KHa-82"
      },
      "outputs": [],
      "source": [
        "# 3-최근접 이웃 회귀 모델로 바꿉니다.\n",
        "import sklearn.neighbors\n",
        "model1 = sklearn.neighbors.KNeighborsRegressor(n_neighbors=3)\n",
        "\n",
        "# 모델을 훈련합니다.\n",
        "model1.fit(X,y)\n",
        "\n",
        "# 키프로스에 대한 예측을 만듭니다.\n",
        "print(model1.predict(X_new)) # 출력 [[5.76666667]]"
      ]
    },
    {
      "cell_type": "markdown",
      "metadata": {
        "id": "8_plbtELa-82"
      },
      "source": [
        "# 알림: 이후의 코드는 무시해도 좋습니다. 이 코드는 1장에 있는 그림을 생성하기 위한 것입니다."
      ]
    },
    {
      "cell_type": "markdown",
      "metadata": {
        "id": "eFV_BLgha-82"
      },
      "source": [
        "그림을 저장하기 위함 함수"
      ]
    },
    {
      "cell_type": "code",
      "execution_count": null,
      "metadata": {
        "execution": {
          "iopub.execute_input": "2021-10-23T06:48:28.991596Z",
          "iopub.status.busy": "2021-10-23T06:48:28.990194Z",
          "iopub.status.idle": "2021-10-23T06:48:28.993292Z",
          "shell.execute_reply": "2021-10-23T06:48:28.993837Z"
        },
        "id": "14u9SYSda-82"
      },
      "outputs": [],
      "source": [
        "# Where to save the figures\n",
        "PROJECT_ROOT_DIR = \".\"\n",
        "CHAPTER_ID = \"fundamentals\"\n",
        "IMAGES_PATH = os.path.join(PROJECT_ROOT_DIR, \"images\", CHAPTER_ID)\n",
        "os.makedirs(IMAGES_PATH, exist_ok=True)\n",
        "\n",
        "def save_fig(fig_id, tight_layout=True, fig_extension=\"png\", resolution=300):\n",
        "    path = os.path.join(IMAGES_PATH, fig_id + \".\" + fig_extension)\n",
        "    print(\"Saving figure\", fig_id)\n",
        "    if tight_layout:\n",
        "        plt.tight_layout()\n",
        "    plt.savefig(path, format=fig_extension, dpi=resolution)"
      ]
    },
    {
      "cell_type": "markdown",
      "metadata": {
        "id": "ZzKHuKoda-83"
      },
      "source": [
        "노트북 출력을 동일하게 만들기 위해서"
      ]
    },
    {
      "cell_type": "code",
      "execution_count": null,
      "metadata": {
        "execution": {
          "iopub.execute_input": "2021-10-23T06:48:28.999763Z",
          "iopub.status.busy": "2021-10-23T06:48:28.998928Z",
          "iopub.status.idle": "2021-10-23T06:48:29.003409Z",
          "shell.execute_reply": "2021-10-23T06:48:29.001914Z"
        },
        "id": "I-t9JuFva-83"
      },
      "outputs": [],
      "source": [
        "np.random.seed(42)"
      ]
    },
    {
      "cell_type": "markdown",
      "metadata": {
        "id": "4BXvlLFsa-83"
      },
      "source": [
        "# 삶의 만족도 데이터 적재와 준비"
      ]
    },
    {
      "cell_type": "markdown",
      "metadata": {
        "id": "_OqzJfVwa-83"
      },
      "source": [
        "필요하면 OECE 웹사이트에서 새 데이터를 받을 수 있습니다. http://stats.oecd.org/index.aspx?DataSetCode=BLI 에서 CSV 파일을 다운받아 `datasets/lifesat/`에 저장합니다."
      ]
    },
    {
      "cell_type": "code",
      "execution_count": null,
      "metadata": {
        "execution": {
          "iopub.execute_input": "2021-10-23T06:48:29.012995Z",
          "iopub.status.busy": "2021-10-23T06:48:29.010143Z",
          "iopub.status.idle": "2021-10-23T06:48:29.049739Z",
          "shell.execute_reply": "2021-10-23T06:48:29.048696Z"
        },
        "id": "WaEEaMKNa-84"
      },
      "outputs": [],
      "source": [
        "oecd_bli = pd.read_csv(datapath + \"oecd_bli_2015.csv\", thousands=',')\n",
        "oecd_bli = oecd_bli[oecd_bli[\"INEQUALITY\"]==\"TOT\"]\n",
        "oecd_bli = oecd_bli.pivot(index=\"Country\", columns=\"Indicator\", values=\"Value\")\n",
        "oecd_bli.head(2)"
      ]
    },
    {
      "cell_type": "code",
      "execution_count": null,
      "metadata": {
        "execution": {
          "iopub.execute_input": "2021-10-23T06:48:29.057629Z",
          "iopub.status.busy": "2021-10-23T06:48:29.056870Z",
          "iopub.status.idle": "2021-10-23T06:48:29.060686Z",
          "shell.execute_reply": "2021-10-23T06:48:29.061182Z"
        },
        "id": "t2OzQJYsa-84"
      },
      "outputs": [],
      "source": [
        "oecd_bli[\"Life satisfaction\"].head()"
      ]
    },
    {
      "cell_type": "markdown",
      "metadata": {
        "id": "U3glY1Nwa-84"
      },
      "source": [
        "# 1인당 GDP 데이터 적재와 준비"
      ]
    },
    {
      "cell_type": "markdown",
      "metadata": {
        "id": "_45kVWo_a-84"
      },
      "source": [
        "위와 마찬가지로 필요하면 1인당 GDP 데이터를 새로 받을 수 있습니다. http://goo.gl/j1MSKe (=> imf.org)에서 다운받아 `datasets/lifesat/`에 저장하면 됩니다."
      ]
    },
    {
      "cell_type": "code",
      "execution_count": null,
      "metadata": {
        "execution": {
          "iopub.execute_input": "2021-10-23T06:48:29.079339Z",
          "iopub.status.busy": "2021-10-23T06:48:29.078287Z",
          "iopub.status.idle": "2021-10-23T06:48:29.083316Z",
          "shell.execute_reply": "2021-10-23T06:48:29.083951Z"
        },
        "id": "uVmgbETNa-84"
      },
      "outputs": [],
      "source": [
        "gdp_per_capita = pd.read_csv(datapath+\"gdp_per_capita.csv\", thousands=',', delimiter='\\t',\n",
        "                             encoding='latin1', na_values=\"n/a\")\n",
        "gdp_per_capita.rename(columns={\"2015\": \"GDP per capita\"}, inplace=True)\n",
        "gdp_per_capita.set_index(\"Country\", inplace=True)\n",
        "gdp_per_capita.head(2)"
      ]
    },
    {
      "cell_type": "code",
      "execution_count": null,
      "metadata": {
        "execution": {
          "iopub.execute_input": "2021-10-23T06:48:29.146649Z",
          "iopub.status.busy": "2021-10-23T06:48:29.088150Z",
          "iopub.status.idle": "2021-10-23T06:48:29.153173Z",
          "shell.execute_reply": "2021-10-23T06:48:29.153929Z"
        },
        "id": "MVBeOfwta-85"
      },
      "outputs": [],
      "source": [
        "full_country_stats = pd.merge(left=oecd_bli, right=gdp_per_capita, left_index=True, right_index=True)\n",
        "full_country_stats.sort_values(by=\"GDP per capita\", inplace=True)\n",
        "full_country_stats"
      ]
    },
    {
      "cell_type": "code",
      "execution_count": null,
      "metadata": {
        "execution": {
          "iopub.execute_input": "2021-10-23T06:48:29.162946Z",
          "iopub.status.busy": "2021-10-23T06:48:29.162150Z",
          "iopub.status.idle": "2021-10-23T06:48:29.166544Z",
          "shell.execute_reply": "2021-10-23T06:48:29.165747Z"
        },
        "id": "XCE5jqpua-85"
      },
      "outputs": [],
      "source": [
        "full_country_stats[[\"GDP per capita\", 'Life satisfaction']].loc[\"United States\"]"
      ]
    },
    {
      "cell_type": "code",
      "execution_count": null,
      "metadata": {
        "execution": {
          "iopub.execute_input": "2021-10-23T06:48:29.175181Z",
          "iopub.status.busy": "2021-10-23T06:48:29.174342Z",
          "iopub.status.idle": "2021-10-23T06:48:29.177370Z",
          "shell.execute_reply": "2021-10-23T06:48:29.176698Z"
        },
        "id": "CeOEqln1a-85"
      },
      "outputs": [],
      "source": [
        "remove_indices = [0, 1, 6, 8, 33, 34, 35]\n",
        "keep_indices = list(set(range(36)) - set(remove_indices))\n",
        "\n",
        "sample_data = full_country_stats[[\"GDP per capita\", 'Life satisfaction']].iloc[keep_indices]\n",
        "missing_data = full_country_stats[[\"GDP per capita\", 'Life satisfaction']].iloc[remove_indices]"
      ]
    },
    {
      "cell_type": "code",
      "execution_count": null,
      "metadata": {
        "execution": {
          "iopub.execute_input": "2021-10-23T06:48:29.236800Z",
          "iopub.status.busy": "2021-10-23T06:48:29.232671Z",
          "iopub.status.idle": "2021-10-23T06:48:29.763546Z",
          "shell.execute_reply": "2021-10-23T06:48:29.762871Z"
        },
        "id": "SOYCmN9Ka-85"
      },
      "outputs": [],
      "source": [
        "sample_data.plot(kind='scatter', x=\"GDP per capita\", y='Life satisfaction', figsize=(5,3))\n",
        "plt.axis([0, 60000, 0, 10])\n",
        "position_text = {\n",
        "    \"Hungary\": (5000, 1),\n",
        "    \"Korea\": (18000, 1.7),\n",
        "    \"France\": (29000, 2.4),\n",
        "    \"Australia\": (40000, 3.0),\n",
        "    \"United States\": (52000, 3.8),\n",
        "}\n",
        "for country, pos_text in position_text.items():\n",
        "    pos_data_x, pos_data_y = sample_data.loc[country]\n",
        "    country = \"U.S.\" if country == \"United States\" else country\n",
        "    plt.annotate(country, xy=(pos_data_x, pos_data_y), xytext=pos_text,\n",
        "            arrowprops=dict(facecolor='black', width=0.5, shrink=0.1, headwidth=5))\n",
        "    plt.plot(pos_data_x, pos_data_y, \"ro\")\n",
        "plt.xlabel(\"GDP per capita (USD)\")\n",
        "save_fig('money_happy_scatterplot')\n",
        "plt.show()"
      ]
    },
    {
      "cell_type": "code",
      "execution_count": null,
      "metadata": {
        "execution": {
          "iopub.execute_input": "2021-10-23T06:48:29.769868Z",
          "iopub.status.busy": "2021-10-23T06:48:29.768378Z",
          "iopub.status.idle": "2021-10-23T06:48:29.773096Z",
          "shell.execute_reply": "2021-10-23T06:48:29.772384Z"
        },
        "id": "rqwF52VQa-86"
      },
      "outputs": [],
      "source": [
        "sample_data.to_csv(os.path.join(\"datasets\", \"lifesat\", \"lifesat.csv\"))"
      ]
    },
    {
      "cell_type": "code",
      "execution_count": null,
      "metadata": {
        "execution": {
          "iopub.execute_input": "2021-10-23T06:48:29.784005Z",
          "iopub.status.busy": "2021-10-23T06:48:29.782935Z",
          "iopub.status.idle": "2021-10-23T06:48:29.786506Z",
          "shell.execute_reply": "2021-10-23T06:48:29.787015Z"
        },
        "id": "3KpMmknha-86"
      },
      "outputs": [],
      "source": [
        "sample_data.loc[list(position_text.keys())]"
      ]
    },
    {
      "cell_type": "code",
      "execution_count": null,
      "metadata": {
        "execution": {
          "iopub.execute_input": "2021-10-23T06:48:29.822047Z",
          "iopub.status.busy": "2021-10-23T06:48:29.820250Z",
          "iopub.status.idle": "2021-10-23T06:48:30.382519Z",
          "shell.execute_reply": "2021-10-23T06:48:30.383024Z"
        },
        "id": "9sd120oBa-86"
      },
      "outputs": [],
      "source": [
        "import numpy as np\n",
        "\n",
        "sample_data.plot(kind='scatter', x=\"GDP per capita\", y='Life satisfaction', figsize=(5,3))\n",
        "plt.xlabel(\"GDP per capita (USD)\")\n",
        "plt.axis([0, 60000, 0, 10])\n",
        "X=np.linspace(0, 60000, 1000)\n",
        "plt.plot(X, 2*X/100000, \"r\")\n",
        "plt.text(40000, 2.7, r\"$\\theta_0 = 0$\", fontsize=14, color=\"r\")\n",
        "plt.text(40000, 1.8, r\"$\\theta_1 = 2 \\times 10^{-5}$\", fontsize=14, color=\"r\")\n",
        "plt.plot(X, 8 - 5*X/100000, \"g\")\n",
        "plt.text(5000, 9.1, r\"$\\theta_0 = 8$\", fontsize=14, color=\"g\")\n",
        "plt.text(5000, 8.2, r\"$\\theta_1 = -5 \\times 10^{-5}$\", fontsize=14, color=\"g\")\n",
        "plt.plot(X, 4 + 5*X/100000, \"b\")\n",
        "plt.text(5000, 3.5, r\"$\\theta_0 = 4$\", fontsize=14, color=\"b\")\n",
        "plt.text(5000, 2.6, r\"$\\theta_1 = 5 \\times 10^{-5}$\", fontsize=14, color=\"b\")\n",
        "save_fig('tweaking_model_params_plot')\n",
        "plt.show()"
      ]
    },
    {
      "cell_type": "code",
      "execution_count": null,
      "metadata": {
        "execution": {
          "iopub.execute_input": "2021-10-23T06:48:30.391251Z",
          "iopub.status.busy": "2021-10-23T06:48:30.390408Z",
          "iopub.status.idle": "2021-10-23T06:48:30.394311Z",
          "shell.execute_reply": "2021-10-23T06:48:30.393661Z"
        },
        "id": "BdDxHuk-a-87"
      },
      "outputs": [],
      "source": [
        "from sklearn import linear_model\n",
        "lin1 = linear_model.LinearRegression()\n",
        "Xsample = np.c_[sample_data[\"GDP per capita\"]]\n",
        "ysample = np.c_[sample_data[\"Life satisfaction\"]]\n",
        "lin1.fit(Xsample, ysample)\n",
        "t0, t1 = lin1.intercept_[0], lin1.coef_[0][0]\n",
        "t0, t1"
      ]
    },
    {
      "cell_type": "code",
      "execution_count": null,
      "metadata": {
        "execution": {
          "iopub.execute_input": "2021-10-23T06:48:30.434650Z",
          "iopub.status.busy": "2021-10-23T06:48:30.418635Z",
          "iopub.status.idle": "2021-10-23T06:48:30.775774Z",
          "shell.execute_reply": "2021-10-23T06:48:30.775094Z"
        },
        "id": "wgtr-feVa-87"
      },
      "outputs": [],
      "source": [
        "sample_data.plot(kind='scatter', x=\"GDP per capita\", y='Life satisfaction', figsize=(5,3))\n",
        "plt.xlabel(\"GDP per capita (USD)\")\n",
        "plt.axis([0, 60000, 0, 10])\n",
        "X=np.linspace(0, 60000, 1000)\n",
        "plt.plot(X, t0 + t1*X, \"b\")\n",
        "plt.text(5000, 3.1, r\"$\\theta_0 = 4.85$\", fontsize=14, color=\"b\")\n",
        "plt.text(5000, 2.2, r\"$\\theta_1 = 4.91 \\times 10^{-5}$\", fontsize=14, color=\"b\")\n",
        "save_fig('best_fit_model_plot')\n",
        "plt.show()\n"
      ]
    },
    {
      "cell_type": "code",
      "execution_count": null,
      "metadata": {
        "execution": {
          "iopub.execute_input": "2021-10-23T06:48:30.783881Z",
          "iopub.status.busy": "2021-10-23T06:48:30.782851Z",
          "iopub.status.idle": "2021-10-23T06:48:30.788028Z",
          "shell.execute_reply": "2021-10-23T06:48:30.788505Z"
        },
        "id": "hbvwxLhHa-87"
      },
      "outputs": [],
      "source": [
        "cyprus_gdp_per_capita = gdp_per_capita.loc[\"Cyprus\"][\"GDP per capita\"]\n",
        "print(cyprus_gdp_per_capita)\n",
        "cyprus_predicted_life_satisfaction = lin1.predict([[cyprus_gdp_per_capita]])[0][0]\n",
        "cyprus_predicted_life_satisfaction"
      ]
    },
    {
      "cell_type": "code",
      "execution_count": null,
      "metadata": {
        "execution": {
          "iopub.execute_input": "2021-10-23T06:48:30.812576Z",
          "iopub.status.busy": "2021-10-23T06:48:30.811273Z",
          "iopub.status.idle": "2021-10-23T06:48:31.301218Z",
          "shell.execute_reply": "2021-10-23T06:48:31.301732Z"
        },
        "id": "emloXORDa-87"
      },
      "outputs": [],
      "source": [
        "sample_data.plot(kind='scatter', x=\"GDP per capita\", y='Life satisfaction', figsize=(5,3), s=1)\n",
        "plt.xlabel(\"GDP per capita (USD)\")\n",
        "X=np.linspace(0, 60000, 1000)\n",
        "plt.plot(X, t0 + t1*X, \"b\")\n",
        "plt.axis([0, 60000, 0, 10])\n",
        "plt.text(5000, 7.5, r\"$\\theta_0 = 4.85$\", fontsize=14, color=\"b\")\n",
        "plt.text(5000, 6.6, r\"$\\theta_1 = 4.91 \\times 10^{-5}$\", fontsize=14, color=\"b\")\n",
        "plt.plot([cyprus_gdp_per_capita, cyprus_gdp_per_capita], [0, cyprus_predicted_life_satisfaction], \"r--\")\n",
        "plt.text(25000, 5.0, r\"Prediction = 5.96\", fontsize=14, color=\"b\")\n",
        "plt.plot(cyprus_gdp_per_capita, cyprus_predicted_life_satisfaction, \"ro\")\n",
        "save_fig('cyprus_prediction_plot')\n",
        "plt.show()"
      ]
    },
    {
      "cell_type": "code",
      "execution_count": null,
      "metadata": {
        "execution": {
          "iopub.execute_input": "2021-10-23T06:48:31.311773Z",
          "iopub.status.busy": "2021-10-23T06:48:31.310855Z",
          "iopub.status.idle": "2021-10-23T06:48:31.317179Z",
          "shell.execute_reply": "2021-10-23T06:48:31.316528Z"
        },
        "id": "NkoRkKgCa-88"
      },
      "outputs": [],
      "source": [
        "sample_data[7:10]"
      ]
    },
    {
      "cell_type": "code",
      "execution_count": null,
      "metadata": {
        "execution": {
          "iopub.execute_input": "2021-10-23T06:48:31.323215Z",
          "iopub.status.busy": "2021-10-23T06:48:31.322428Z",
          "iopub.status.idle": "2021-10-23T06:48:31.326228Z",
          "shell.execute_reply": "2021-10-23T06:48:31.325656Z"
        },
        "id": "bDl4B6Pta-9A"
      },
      "outputs": [],
      "source": [
        "(5.1+5.7+6.5)/3"
      ]
    },
    {
      "cell_type": "code",
      "execution_count": null,
      "metadata": {
        "execution": {
          "iopub.execute_input": "2021-10-23T06:48:31.333676Z",
          "iopub.status.busy": "2021-10-23T06:48:31.332957Z",
          "iopub.status.idle": "2021-10-23T06:48:31.336231Z",
          "shell.execute_reply": "2021-10-23T06:48:31.335528Z"
        },
        "id": "BhBMNpuYa-9B"
      },
      "outputs": [],
      "source": [
        "backup = oecd_bli, gdp_per_capita\n",
        "\n",
        "def prepare_country_stats(oecd_bli, gdp_per_capita):\n",
        "    oecd_bli = oecd_bli[oecd_bli[\"INEQUALITY\"]==\"TOT\"]\n",
        "    oecd_bli = oecd_bli.pivot(index=\"Country\", columns=\"Indicator\", values=\"Value\")\n",
        "    gdp_per_capita.rename(columns={\"2015\": \"GDP per capita\"}, inplace=True)\n",
        "    gdp_per_capita.set_index(\"Country\", inplace=True)\n",
        "    full_country_stats = pd.merge(left=oecd_bli, right=gdp_per_capita,\n",
        "                                  left_index=True, right_index=True)\n",
        "    full_country_stats.sort_values(by=\"GDP per capita\", inplace=True)\n",
        "    remove_indices = [0, 1, 6, 8, 33, 34, 35]\n",
        "    keep_indices = list(set(range(36)) - set(remove_indices))\n",
        "    return full_country_stats[[\"GDP per capita\", 'Life satisfaction']].iloc[keep_indices]"
      ]
    },
    {
      "cell_type": "code",
      "execution_count": null,
      "metadata": {
        "execution": {
          "iopub.execute_input": "2021-10-23T06:48:31.344373Z",
          "iopub.status.busy": "2021-10-23T06:48:31.343332Z",
          "iopub.status.idle": "2021-10-23T06:48:31.500882Z",
          "shell.execute_reply": "2021-10-23T06:48:31.501406Z"
        },
        "id": "kOJ4Lwoxa-9B"
      },
      "outputs": [],
      "source": [
        "# Code example\n",
        "import matplotlib.pyplot as plt\n",
        "import numpy as np\n",
        "import pandas as pd\n",
        "import sklearn.linear_model\n",
        "\n",
        "# Load the data\n",
        "oecd_bli = pd.read_csv(datapath + \"oecd_bli_2015.csv\", thousands=',')\n",
        "gdp_per_capita = pd.read_csv(datapath + \"gdp_per_capita.csv\",thousands=',',delimiter='\\t',\n",
        "                             encoding='latin1', na_values=\"n/a\")\n",
        "\n",
        "# Prepare the data\n",
        "country_stats = prepare_country_stats(oecd_bli, gdp_per_capita)\n",
        "X = np.c_[country_stats[\"GDP per capita\"]]\n",
        "y = np.c_[country_stats[\"Life satisfaction\"]]\n",
        "\n",
        "# Visualize the data\n",
        "country_stats.plot(kind='scatter', x=\"GDP per capita\", y='Life satisfaction')\n",
        "plt.show()\n",
        "\n",
        "# Select a linear model\n",
        "model = sklearn.linear_model.LinearRegression()\n",
        "\n",
        "# Train the model\n",
        "model.fit(X, y)\n",
        "\n",
        "# Make a prediction for Cyprus\n",
        "X_new = [[22587]]  # Cyprus' GDP per capita\n",
        "print(model.predict(X_new)) # outputs [[ 5.96242338]]"
      ]
    },
    {
      "cell_type": "code",
      "execution_count": null,
      "metadata": {
        "execution": {
          "iopub.execute_input": "2021-10-23T06:48:31.505617Z",
          "iopub.status.busy": "2021-10-23T06:48:31.504688Z",
          "iopub.status.idle": "2021-10-23T06:48:31.509299Z",
          "shell.execute_reply": "2021-10-23T06:48:31.508634Z"
        },
        "id": "MdrnBEfja-9B"
      },
      "outputs": [],
      "source": [
        "oecd_bli, gdp_per_capita = backup"
      ]
    },
    {
      "cell_type": "code",
      "execution_count": null,
      "metadata": {
        "execution": {
          "iopub.execute_input": "2021-10-23T06:48:31.521174Z",
          "iopub.status.busy": "2021-10-23T06:48:31.519288Z",
          "iopub.status.idle": "2021-10-23T06:48:31.525459Z",
          "shell.execute_reply": "2021-10-23T06:48:31.524033Z"
        },
        "id": "ciyiicyVa-9B"
      },
      "outputs": [],
      "source": [
        "missing_data"
      ]
    },
    {
      "cell_type": "code",
      "execution_count": null,
      "metadata": {
        "execution": {
          "iopub.execute_input": "2021-10-23T06:48:31.533511Z",
          "iopub.status.busy": "2021-10-23T06:48:31.532185Z",
          "iopub.status.idle": "2021-10-23T06:48:31.534399Z",
          "shell.execute_reply": "2021-10-23T06:48:31.534899Z"
        },
        "id": "toD_--zBa-9C"
      },
      "outputs": [],
      "source": [
        "position_text2 = {\n",
        "    \"Brazil\": (1000, 9.0),\n",
        "    \"Mexico\": (11000, 9.0),\n",
        "    \"Chile\": (25000, 9.0),\n",
        "    \"Czech Republic\": (35000, 9.0),\n",
        "    \"Norway\": (60000, 3),\n",
        "    \"Switzerland\": (72000, 3.0),\n",
        "    \"Luxembourg\": (90000, 3.0),\n",
        "}"
      ]
    },
    {
      "cell_type": "code",
      "execution_count": null,
      "metadata": {
        "execution": {
          "iopub.execute_input": "2021-10-23T06:48:31.559321Z",
          "iopub.status.busy": "2021-10-23T06:48:31.558278Z",
          "iopub.status.idle": "2021-10-23T06:48:32.289124Z",
          "shell.execute_reply": "2021-10-23T06:48:32.289621Z"
        },
        "id": "uQoGMPAYa-9C"
      },
      "outputs": [],
      "source": [
        "sample_data.plot(kind='scatter', x=\"GDP per capita\", y='Life satisfaction', figsize=(8,3))\n",
        "plt.axis([0, 110000, 0, 10])\n",
        "\n",
        "for country, pos_text in position_text2.items():\n",
        "    pos_data_x, pos_data_y = missing_data.loc[country]\n",
        "    plt.annotate(country, xy=(pos_data_x, pos_data_y), xytext=pos_text,\n",
        "            arrowprops=dict(facecolor='black', width=0.5, shrink=0.1, headwidth=5))\n",
        "    plt.plot(pos_data_x, pos_data_y, \"rs\")\n",
        "\n",
        "X=np.linspace(0, 110000, 1000)\n",
        "plt.plot(X, t0 + t1*X, \"b:\")\n",
        "\n",
        "lin_reg_full = linear_model.LinearRegression()\n",
        "Xfull = np.c_[full_country_stats[\"GDP per capita\"]]\n",
        "yfull = np.c_[full_country_stats[\"Life satisfaction\"]]\n",
        "lin_reg_full.fit(Xfull, yfull)\n",
        "\n",
        "t0full, t1full = lin_reg_full.intercept_[0], lin_reg_full.coef_[0][0]\n",
        "X = np.linspace(0, 110000, 1000)\n",
        "plt.plot(X, t0full + t1full * X, \"k\")\n",
        "plt.xlabel(\"GDP per capita (USD)\")\n",
        "\n",
        "save_fig('representative_training_data_scatterplot')\n",
        "plt.show()"
      ]
    },
    {
      "cell_type": "code",
      "execution_count": null,
      "metadata": {
        "execution": {
          "iopub.execute_input": "2021-10-23T06:48:32.294397Z",
          "iopub.status.busy": "2021-10-23T06:48:32.293513Z",
          "iopub.status.idle": "2021-10-23T06:48:32.735202Z",
          "shell.execute_reply": "2021-10-23T06:48:32.734561Z"
        },
        "id": "66tRjpkja-9C"
      },
      "outputs": [],
      "source": [
        "full_country_stats.plot(kind='scatter', x=\"GDP per capita\", y='Life satisfaction', figsize=(8,3))\n",
        "plt.axis([0, 110000, 0, 10])\n",
        "\n",
        "from sklearn import preprocessing\n",
        "from sklearn import pipeline\n",
        "\n",
        "poly = preprocessing.PolynomialFeatures(degree=30, include_bias=False)\n",
        "scaler = preprocessing.StandardScaler()\n",
        "lin_reg2 = linear_model.LinearRegression()\n",
        "\n",
        "pipeline_reg = pipeline.Pipeline([('poly', poly), ('scal', scaler), ('lin', lin_reg2)])\n",
        "pipeline_reg.fit(Xfull, yfull)\n",
        "curve = pipeline_reg.predict(X[:, np.newaxis])\n",
        "plt.plot(X, curve)\n",
        "plt.xlabel(\"GDP per capita (USD)\")\n",
        "save_fig('overfitting_model_plot')\n",
        "plt.show()"
      ]
    },
    {
      "cell_type": "code",
      "execution_count": null,
      "metadata": {
        "execution": {
          "iopub.execute_input": "2021-10-23T06:48:32.740479Z",
          "iopub.status.busy": "2021-10-23T06:48:32.739229Z",
          "iopub.status.idle": "2021-10-23T06:48:32.748044Z",
          "shell.execute_reply": "2021-10-23T06:48:32.747254Z"
        },
        "id": "Pmn_Btm8a-9C"
      },
      "outputs": [],
      "source": [
        "full_country_stats.loc[[c for c in full_country_stats.index if \"W\" in c.upper()]][\"Life satisfaction\"]"
      ]
    },
    {
      "cell_type": "code",
      "execution_count": null,
      "metadata": {
        "execution": {
          "iopub.execute_input": "2021-10-23T06:48:32.762809Z",
          "iopub.status.busy": "2021-10-23T06:48:32.761466Z",
          "iopub.status.idle": "2021-10-23T06:48:32.765884Z",
          "shell.execute_reply": "2021-10-23T06:48:32.766422Z"
        },
        "id": "hKl8Xtbla-9D"
      },
      "outputs": [],
      "source": [
        "gdp_per_capita.loc[[c for c in gdp_per_capita.index if \"W\" in c.upper()]].head()"
      ]
    },
    {
      "cell_type": "code",
      "execution_count": null,
      "metadata": {
        "execution": {
          "iopub.execute_input": "2021-10-23T06:48:32.777676Z",
          "iopub.status.busy": "2021-10-23T06:48:32.776317Z",
          "iopub.status.idle": "2021-10-23T06:48:33.193607Z",
          "shell.execute_reply": "2021-10-23T06:48:33.194180Z"
        },
        "id": "_aBFp8nCa-9D"
      },
      "outputs": [],
      "source": [
        "plt.figure(figsize=(8,3))\n",
        "\n",
        "plt.xlabel(\"GDP per capita\")\n",
        "plt.ylabel('Life satisfaction')\n",
        "\n",
        "plt.plot(list(sample_data[\"GDP per capita\"]), list(sample_data[\"Life satisfaction\"]), \"bo\")\n",
        "plt.plot(list(missing_data[\"GDP per capita\"]), list(missing_data[\"Life satisfaction\"]), \"rs\")\n",
        "\n",
        "X = np.linspace(0, 110000, 1000)\n",
        "plt.plot(X, t0full + t1full * X, \"r--\", label=\"Linear model on all data\")\n",
        "plt.plot(X, t0 + t1*X, \"b:\", label=\"Linear model on partial data\")\n",
        "\n",
        "ridge = linear_model.Ridge(alpha=10**9.5)\n",
        "Xsample = np.c_[sample_data[\"GDP per capita\"]]\n",
        "ysample = np.c_[sample_data[\"Life satisfaction\"]]\n",
        "ridge.fit(Xsample, ysample)\n",
        "t0ridge, t1ridge = ridge.intercept_[0], ridge.coef_[0][0]\n",
        "plt.plot(X, t0ridge + t1ridge * X, \"b\", label=\"Regularized linear model on partial data\")\n",
        "\n",
        "plt.legend(loc=\"lower right\")\n",
        "plt.axis([0, 110000, 0, 10])\n",
        "plt.xlabel(\"GDP per capita (USD)\")\n",
        "save_fig('ridge_model_plot')\n",
        "plt.show()"
      ]
    }
  ],
  "metadata": {
    "kernelspec": {
      "display_name": "Python 3 (ipykernel)",
      "language": "python",
      "name": "python3"
    },
    "language_info": {
      "codemirror_mode": {
        "name": "ipython",
        "version": 3
      },
      "file_extension": ".py",
      "mimetype": "text/x-python",
      "name": "python",
      "nbconvert_exporter": "python",
      "pygments_lexer": "ipython3",
      "version": "3.7.3"
    },
    "nav_menu": {},
    "toc": {
      "navigate_menu": true,
      "number_sections": true,
      "sideBar": true,
      "threshold": 6,
      "toc_cell": false,
      "toc_section_display": "block",
      "toc_window_display": true
    },
    "toc_position": {
      "height": "616px",
      "left": "0px",
      "right": "20px",
      "top": "106px",
      "width": "213px"
    },
    "colab": {
      "provenance": []
    }
  },
  "nbformat": 4,
  "nbformat_minor": 0
}